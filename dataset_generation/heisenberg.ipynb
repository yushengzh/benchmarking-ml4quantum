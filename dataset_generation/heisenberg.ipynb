{
 "cells": [
  {
   "cell_type": "code",
   "execution_count": 7,
   "metadata": {},
   "outputs": [],
   "source": [
    "using ITensors, ITensorMPS\n",
    "using CUDA:cu"
   ]
  },
  {
   "cell_type": "code",
   "execution_count": 8,
   "metadata": {},
   "outputs": [],
   "source": [
    "function make_coupling_matrix(Nx, Ny)\n",
    "    # uniformly sample the coupling strength from [0, 2]\n",
    "    coupling_matrix = zeros(Nx, Ny)\n",
    "    for i in 1:Nx\n",
    "        for j in i+1:Ny\n",
    "            prob = 1 # rand()\n",
    "            if j - i > 1\n",
    "                if prob > 0.5\n",
    "                    coupling_matrix[i, j] = coupling_matrix[j, i] = 0.0\n",
    "                elseif coupling_matrix[i, j - 1] == 0.0\n",
    "                    coupling_matrix[i, j] = coupling_matrix[j, i] = 0.0\n",
    "                else\n",
    "                    coupling_matrix[i, j] = coupling_matrix[j, i] = 2.0 * (rand() + 1e-6)\n",
    "                end\n",
    "            else \n",
    "                coupling_matrix[i, j] = coupling_matrix[j, i] = 2.0 * rand()\n",
    "            end\n",
    "        end\n",
    "    end\n",
    "    return coupling_matrix\n",
    "end;"
   ]
  },
  {
   "cell_type": "code",
   "execution_count": 9,
   "metadata": {},
   "outputs": [],
   "source": [
    "function make_coupling_strength(Nx, Ny)\n",
    "    N = 2 * Nx * Ny - Nx - Ny\n",
    "    coupling_strength = [2.0 * (rand() + 1e-6) for i in 1:N]\n",
    "    return coupling_strength\n",
    "end;"
   ]
  },
  {
   "cell_type": "code",
   "execution_count": 10,
   "metadata": {},
   "outputs": [],
   "source": [
    "using ITensors, ITensorMPS\n",
    "function heisenberg_2d_huang(Nx, Ny, spin, nsweeps, coupling_strength, maxdim, cutoff, device=identity)\n",
    "    N = Nx * Ny\n",
    "    J = coupling_strength\n",
    "    sites = siteinds(\"S=$spin\", N; conserve_qns=true)\n",
    "    lattice = square_lattice(Nx, Ny; yperiodic=false)\n",
    "    i = 1\n",
    "    os = OpSum()\n",
    "    for b in lattice\n",
    "        os += J[i] / 2, \"S+\", b.s1, \"S-\", b.s2\n",
    "        os += J[i] / 2, \"S-\", b.s1, \"S+\", b.s2\n",
    "        os += J[i], \"Sz\", b.s1, \"Sz\", b.s2\n",
    "        i += 1\n",
    "    end\n",
    "    H = MPO(os, sites)\n",
    "    # H = map(os -> device(MPO(Float32, os, sites)), os)\n",
    "    state = [isodd(n) ? \"Up\" : \"Dn\" for n=1:N]\n",
    "    # psi0 = device(complex.(MPS(sites, state)))\n",
    "    psi0 = MPS(sites, state)\n",
    "    energy, psi = dmrg(H, psi0; nsweeps, maxdim, cutoff)\n",
    "    \n",
    "    return energy, psi\n",
    "end;"
   ]
  },
  {
   "cell_type": "code",
   "execution_count": 11,
   "metadata": {},
   "outputs": [],
   "source": [
    "using ITensors, ITensorMPS\n",
    "function heisenberg_2d(Nx, Ny, spin, nsweeps, coupling_strength, maxdim, cutoff, device=identity)\n",
    "    N = Nx * Ny\n",
    "    J = coupling_strength\n",
    "    sites = siteinds(\"S=$spin\", N; conserve_qns=true)\n",
    "    lattice = square_lattice(Nx, Ny; yperiodic=false)\n",
    "    \n",
    "    os = OpSum()\n",
    "    for b in lattice\n",
    "        Ji = J[cld(b.s1, Ny) , mod(b.s1, Ny) == 0 ? Ny : mod(b.s1, Ny)]\n",
    "        Jj = J[cld(b.s2, Ny) , mod(b.s2, Ny) == 0 ? Ny : mod(b.s2, Ny)]\n",
    "        Jij = max(Ji, Jj)\n",
    "        os += Jij / 2, \"S+\", b.s1, \"S-\", b.s2\n",
    "        os += Jij / 2, \"S-\", b.s1, \"S+\", b.s2\n",
    "        os += Jij, \"Sz\", b.s1, \"Sz\", b.s2\n",
    "    end\n",
    "    H = MPO(os, sites)\n",
    "    # H = map(os -> device(MPO(Float32, os, sites)), os)\n",
    "    state = [isodd(n) ? \"Up\" : \"Dn\" for n=1:N]\n",
    "    # psi0 = device(complex.(MPS(sites, state)))\n",
    "    psi0 = MPS(sites, state)\n",
    "    energy, psi = dmrg(H, psi0; nsweeps, maxdim, cutoff)\n",
    "    \n",
    "    return energy\n",
    "end;"
   ]
  },
  {
   "cell_type": "code",
   "execution_count": 12,
   "metadata": {},
   "outputs": [
    {
     "data": {
      "text/plain": [
       "5×5 Matrix{Float64}:\n",
       " 0.0      1.19539  0.0      0.0       0.0\n",
       " 1.19539  0.0      0.20912  0.0       0.0\n",
       " 0.0      0.20912  0.0      1.46237   0.0\n",
       " 0.0      0.0      1.46237  0.0       0.926889\n",
       " 0.0      0.0      0.0      0.926889  0.0"
      ]
     },
     "metadata": {},
     "output_type": "display_data"
    }
   ],
   "source": [
    "spin = \"1/2\"\n",
    "nsweeps = 5\n",
    "coupling_strength = make_coupling_matrix(5, 5)\n",
    "maxerr = 1E-4\n",
    "# coupling_strength = 0.5\n",
    "maxdim = [20, 60, 80, 100, 100]\n",
    "cuttoff = 1E-5\n",
    "# energy = heisenberg_2d(Nx, Ny, spin, nsweeps, coupling_strength, maxdim, cuttoff)\n",
    "coupling_strength"
   ]
  },
  {
   "cell_type": "code",
   "execution_count": 13,
   "metadata": {},
   "outputs": [
    {
     "data": {
      "text/plain": [
       "20"
      ]
     },
     "metadata": {},
     "output_type": "display_data"
    }
   ],
   "source": [
    "samples_num = 100\n",
    "system_size = 20"
   ]
  },
  {
   "cell_type": "code",
   "execution_count": 15,
   "metadata": {},
   "outputs": [
    {
     "name": "stdout",
     "output_type": "stream",
     "text": [
      "After sweep 1 energy=-12.050660970627035  maxlinkdim=4 maxerr=8.51E-06 time=0.042\n",
      "After sweep 2 energy=-12.91876505439032  maxlinkdim=12 maxerr=7.64E-06 time=0.100\n",
      "After sweep 3 energy=-14.149201332098068  maxlinkdim=35 maxerr=9.84E-06 time=0.145\n",
      "After sweep 4 energy=-14.408564247138232  maxlinkdim=58 maxerr=9.71E-06 time=0.197\n",
      "After sweep 5 energy=-14.430187985475541  maxlinkdim=72 maxerr=9.82E-06 time=0.243\n"
     ]
    }
   ],
   "source": [
    "Nx = 4\n",
    "Ny = 5\n",
    "spin = \"1/2\"\n",
    "nsweeps = 5\n",
    "coupling_strength = make_coupling_strength(Nx, Ny)\n",
    "maxerr = 1E-4\n",
    "maxdim = [20, 60, 80, 100, 100]\n",
    "cuttoff = 1E-5\n",
    "energy = heisenberg_2d_huang(Nx, Ny, spin, nsweeps, coupling_strength, maxdim, cuttoff);"
   ]
  },
  {
   "cell_type": "code",
   "execution_count": 72,
   "metadata": {},
   "outputs": [],
   "source": [
    "function heisenberg_2d_dataset(system_size, samples_num, spin, nsweeps, maxdim, cuttoff)\n",
    "    dataset = []\n",
    "    coupling_matrix_list = [make_coupling_matrix(system_size, system_size) for i in 1:samples_num]\n",
    "    energy_list = [heisenberg_2d(system_size, system_size, spin, nsweeps, coupling_strength, maxdim, cuttoff) for coupling_strength in coupling_matrix_list]\n",
    "    push!(dataset, (coupling_matrix_list, energy_list))\n",
    "    return dataset\n",
    "end;"
   ]
  },
  {
   "cell_type": "code",
   "execution_count": 77,
   "metadata": {},
   "outputs": [
    {
     "data": {
      "text/plain": [
       "\"heisenberg_2d/n100_X(coupling)_y(energy)_q20.csv\""
      ]
     },
     "metadata": {},
     "output_type": "display_data"
    }
   ],
   "source": [
    "# save the dataset\n",
    "write_dataset_to_csv(dataset, \"heisenberg_2d/n100_X(coupling)_y(energy)_q20.csv\")"
   ]
  },
  {
   "cell_type": "code",
   "execution_count": 19,
   "metadata": {},
   "outputs": [
    {
     "data": {
      "text/plain": [
       "heisenberg_1d (generic function with 1 method)"
      ]
     },
     "metadata": {},
     "output_type": "display_data"
    }
   ],
   "source": [
    "function heisenberg_1d(N, spin, nsweeps, maxdim, cutoff)\n",
    "    sites = siteinds(\"S=$spin\", N)\n",
    "    os = OpSum()\n",
    "    for i=1:N-1\n",
    "        os += 1 / 2, \"S+\", i, \"S-\", i+1\n",
    "        os += 1 / 2, \"S-\", i, \"S+\", i+1\n",
    "        os += 1, \"Sz\", i, \"Sz\", i+1\n",
    "    end\n",
    "    H = MPO(os, sites)\n",
    "    \n",
    "    psi0 = MPS(sites, n -> isodd(n) ? \"Up\" : \"Dn\")\n",
    "    energy, psi = dmrg(H, psi0; nsweeps, maxdim, cutoff)\n",
    "    return energy, psi, H\n",
    "end\n"
   ]
  },
  {
   "cell_type": "code",
   "execution_count": 20,
   "metadata": {},
   "outputs": [
    {
     "name": "stdout",
     "output_type": "stream",
     "text": [
      "After sweep 1 energy=-5.0924746961312275  maxlinkdim=4 maxerr=7.08E-16 time=11.831\n",
      "After sweep 2 energy=-5.142067911316417  maxlinkdim=16 maxerr=6.17E-11 time=0.013\n",
      "After sweep 3 energy=-5.142090631641765  maxlinkdim=23 maxerr=9.41E-11 time=0.038\n",
      "After sweep 4 energy=-5.142090631668938  maxlinkdim=23 maxerr=8.25E-11 time=0.018\n",
      "After sweep 5 energy=-5.142090631668938  maxlinkdim=23 maxerr=8.24E-11 time=0.020\n"
     ]
    }
   ],
   "source": [
    "N = 12\n",
    "spin=\"1/2\"\n",
    "nsweeps = 5\n",
    "maxdim = [10,20,100,100,200]\n",
    "cutoff = [1E-10]\n",
    "energy, psi, H = heisenberg_1d(N, spin, nsweeps, maxdim, cutoff);"
   ]
  },
  {
   "cell_type": "code",
   "execution_count": 43,
   "metadata": {},
   "outputs": [
    {
     "data": {
      "text/plain": [
       "-5.142090631668938"
      ]
     },
     "metadata": {},
     "output_type": "display_data"
    }
   ],
   "source": [
    "energy"
   ]
  },
  {
   "cell_type": "code",
   "execution_count": 21,
   "metadata": {},
   "outputs": [],
   "source": [
    "function compute_expectation_value(psi, H)\n",
    "    ex_W = inner(psi', H, psi)\n",
    "    return ex_W\n",
    "end;"
   ]
  },
  {
   "cell_type": "code",
   "execution_count": 22,
   "metadata": {},
   "outputs": [],
   "source": [
    "# computing entanglement entropy for 1-dimension model\n",
    "function compute_entropy_1d(psi, b)\n",
    "    psi = orthogonalize(psi, b)\n",
    "    U,S,V = svd(psi[b], (linkinds(psi, b-1)..., siteinds(psi, b)...))\n",
    "    SvN = 0.0\n",
    "    for n=1:dim(S, 1)\n",
    "        p = S[n,n]^2 # probability of n-th Schmidt coefficient\n",
    "        SvN -= p * log(p) # von Neumann entropy\n",
    "    end\n",
    "    return SvN\n",
    "end;\n",
    "\n",
    "\n",
    "# computing correlation function\n",
    "function compute_correlation_pauliz(psi)\n",
    "    zzcorr = correlation_matrix(psi, \"Sz\", \"Sz\")\n",
    "    \n",
    "    # normalize the correlation matrix\n",
    "    dig = diag(zzcorr)\n",
    "    dig = sqrt.(dig)\n",
    "    for i=1:length(dig)\n",
    "        zzcorr[i,:] = zzcorr[i,:] ./ dig[i]\n",
    "        zzcorr[:,i] = zzcorr[:,i] ./ dig[i]\n",
    "    end\n",
    "\n",
    "    return zzcorr\n",
    "end;\n"
   ]
  },
  {
   "cell_type": "code",
   "execution_count": 58,
   "metadata": {},
   "outputs": [
    {
     "data": {
      "text/plain": [
       "12×12 Matrix{Float64}:\n",
       "  1.0        -0.875037    0.264345   …  -0.0904036   0.0452814  -0.068897\n",
       " -0.875037    1.0        -0.387624       0.0597471  -0.0300538   0.0452814\n",
       "  0.264345   -0.387624    1.0           -0.120865    0.0597472  -0.0904036\n",
       " -0.29411     0.222159   -0.764812       0.0924652  -0.0463522   0.0682842\n",
       "  0.145969   -0.118818    0.248351      -0.168161    0.0804499  -0.119988\n",
       " -0.172313    0.119348   -0.272552   …   0.139509   -0.0691014   0.0968687\n",
       "  0.0968687  -0.0691014   0.139509      -0.272552    0.119348   -0.172313\n",
       " -0.119988    0.0804499  -0.168161       0.248351   -0.118818    0.145969\n",
       "  0.068284   -0.046352    0.0924652     -0.764812    0.222159   -0.29411\n",
       " -0.0904036   0.0597471  -0.120865       1.0        -0.387624    0.264345\n",
       "  0.0452814  -0.0300538   0.0597472  …  -0.387624    1.0        -0.875037\n",
       " -0.068897    0.0452814  -0.0904036      0.264345   -0.875037    1.0"
      ]
     },
     "metadata": {},
     "output_type": "display_data"
    }
   ],
   "source": [
    "x = compute_correlation_pauliz(psi)"
   ]
  },
  {
   "cell_type": "code",
   "execution_count": 59,
   "metadata": {},
   "outputs": [
    {
     "data": {
      "text/plain": [
       "144-element Vector{Float64}:\n",
       "  1.0000000000000002\n",
       " -0.8750367881118843\n",
       "  0.26434543693100016\n",
       " -0.2941103904610836\n",
       "  0.14596929888133\n",
       " -0.17231320446017406\n",
       "  0.09686866163343585\n",
       " -0.11998788896175688\n",
       "  0.06828402960932692\n",
       " -0.09040355084903764\n",
       "  ⋮\n",
       "  0.06828417311987559\n",
       " -0.11998795321985982\n",
       "  0.09686866399598784\n",
       " -0.1723132083934401\n",
       "  0.14596930010656733\n",
       " -0.2941103899358733\n",
       "  0.2643454365601726\n",
       " -0.8750367870297763\n",
       "  1.0"
      ]
     },
     "metadata": {},
     "output_type": "display_data"
    }
   ],
   "source": [
    "import CSV\n",
    "import DataFrames\n",
    "# cha\n",
    "vec(x)\n",
    "# a = Float32.(vec(x));"
   ]
  },
  {
   "cell_type": "code",
   "execution_count": 60,
   "metadata": {},
   "outputs": [
    {
     "data": {
      "text/plain": [
       "\"[1.0, -0.8750368, 0.26434544, -0.2941104, 0.1459693, -0.1723132, 0.096868664, -0.11998789, 0.06828403, -0.09040355, 0.045281384, -0.06889699, -0.8750368, 1.0, -0.38762358, 0.22215857, -0.11881778, 0.11934848, -0.069101445, 0.08044987, -0.046352003, 0.059747126, -0.03005\"\u001b[93m\u001b[1m ⋯ 1158 bytes ⋯ \u001b[22m\u001b[39m\"030053832, 0.05974722, -0.046352174, 0.080449946, -0.06910144, 0.11934849, -0.11881778, 0.22215857, -0.3876236, 1.0, -0.8750368, -0.06889699, 0.045281384, -0.09040363, 0.06828418, -0.11998795, 0.096868664, -0.17231321, 0.1459693, -0.2941104, 0.26434544, -0.8750368, 1.0]\""
      ]
     },
     "metadata": {},
     "output_type": "display_data"
    }
   ],
   "source": [
    "str_vec = \"[\" * join(a, \", \") * \"]\"\n",
    "str_vec"
   ]
  },
  {
   "cell_type": "code",
   "execution_count": null,
   "metadata": {},
   "outputs": [],
   "source": []
  },
  {
   "cell_type": "code",
   "execution_count": 39,
   "metadata": {},
   "outputs": [
    {
     "data": {
      "text/plain": [
       "144-element Vector{Float64}:\n",
       "  1.0000000000000002\n",
       " -0.8750367881118843\n",
       "  0.26434543693100016\n",
       " -0.2941103904610836\n",
       "  0.14596929888133\n",
       " -0.17231320446017406\n",
       "  0.09686866163343585\n",
       " -0.11998788896175688\n",
       "  0.06828402960932692\n",
       " -0.09040355084903764\n",
       "  ⋮\n",
       "  0.06828417311987559\n",
       " -0.11998795321985982\n",
       "  0.09686866399598784\n",
       " -0.1723132083934401\n",
       "  0.14596930010656733\n",
       " -0.2941103899358733\n",
       "  0.2643454365601726\n",
       " -0.8750367870297763\n",
       "  1.0"
      ]
     },
     "metadata": {},
     "output_type": "display_data"
    }
   ],
   "source": [
    "# covert x to an array with comma to split neighboring datapoint \n",
    "x = reshape(x, length(x), 1)\n",
    "x = join(x, \",\")\n",
    "x = split(x, \",\")\n",
    "x = [parse(Float64, x) for x in x]\n",
    "x"
   ]
  },
  {
   "cell_type": "code",
   "execution_count": null,
   "metadata": {},
   "outputs": [],
   "source": []
  },
  {
   "cell_type": "code",
   "execution_count": 228,
   "metadata": {},
   "outputs": [
    {
     "name": "stdout",
     "output_type": "stream",
     "text": [
      "0.6931471805599452\n",
      "0.414031145052179\n",
      "0.7293379459975349\n",
      "0.5114291012403798\n",
      "0.7481119950888124\n",
      "0.5368332154956549\n",
      "0.7481119977360337\n",
      "0.5114291059314526\n",
      "0.7293379506858658\n",
      "0.41403114778527816\n",
      "0.6931471805599456\n",
      "1.110223024625156e-15\n"
     ]
    }
   ],
   "source": [
    "for i=1:12\n",
    "    println(compute_entropy_1d(psi, i))\n",
    "end"
   ]
  },
  {
   "cell_type": "code",
   "execution_count": 237,
   "metadata": {},
   "outputs": [
    {
     "data": {
      "text/plain": [
       "compute_renyi_entropy_1d (generic function with 2 methods)"
      ]
     },
     "metadata": {},
     "output_type": "display_data"
    }
   ],
   "source": [
    "include(\"mps_utils.jl\")"
   ]
  },
  {
   "cell_type": "code",
   "execution_count": 240,
   "metadata": {},
   "outputs": [
    {
     "name": "stdout",
     "output_type": "stream",
     "text": [
      "(1, 0.6931471805599448)\n",
      "(2, 0.193260729470899)\n",
      "(3, 0.7038391814469086)\n",
      "(4, 0.2574983003332026)\n",
      "(5, 0.710599103635078)\n",
      "(6, 0.27523998137230477)\n",
      "(7, 0.7105991041226506)\n",
      "(8, 0.25749830134819246)\n",
      "(9, 0.7038391829418945)\n",
      "(10, 0.19326073119404186)\n",
      "(11, 0.6931471805599476)\n",
      "(12, 2.2204460492503154e-15)\n"
     ]
    }
   ],
   "source": [
    "for i=1:12\n",
    "    println(compute_renyi_entropy_1d(psi, i))\n",
    "end"
   ]
  },
  {
   "cell_type": "code",
   "execution_count": 262,
   "metadata": {},
   "outputs": [
    {
     "name": "stdout",
     "output_type": "stream",
     "text": [
      "After sweep 1 energy=-13.49508378866567  maxlinkdim=4 maxerr=5.54E-06 time=0.081\n",
      "After sweep 2 energy=-13.851244099950215  maxlinkdim=13 maxerr=8.82E-06 time=0.088\n",
      "After sweep 3 energy=-13.933468914029456  maxlinkdim=18 maxerr=9.36E-06 time=0.125\n",
      "After sweep 4 energy=-13.934164611120474  maxlinkdim=19 maxerr=9.36E-06 time=0.119\n",
      "After sweep 5 energy=-13.934168163970948  maxlinkdim=19 maxerr=7.69E-06 time=0.103\n",
      "After sweep 6 energy=-13.934168166136507  maxlinkdim=19 maxerr=7.70E-06 time=0.120\n"
     ]
    }
   ],
   "source": [
    "energy, psi = heisenberg_2d_huang(5, 5, \"1/2\", 6, make_coupling_strength(5, 5), [20, 60, 80, 100, 100], 1E-5);"
   ]
  },
  {
   "cell_type": "code",
   "execution_count": 155,
   "metadata": {},
   "outputs": [
    {
     "name": "stdout",
     "output_type": "stream",
     "text": [
      "After sweep 1 energy=-15.6026723305666  maxlinkdim=9 maxerr=1.17E-15 time=0.024\n",
      "After sweep 2 energy=-15.654961849544552  maxlinkdim=20 maxerr=6.72E-06 time=0.071\n",
      "After sweep 3 energy=-15.673064469227194  maxlinkdim=98 maxerr=9.87E-11 time=0.420\n",
      "After sweep 4 energy=-15.673988951856119  maxlinkdim=96 maxerr=1.23E-10 time=0.707\n",
      "After sweep 5 energy=-15.674010100017021  maxlinkdim=81 maxerr=9.94E-11 time=0.365\n"
     ]
    },
    {
     "data": {
      "text/plain": [
       "(-15.674010100017021, MPS\n",
       "[1] ((dim=3|id=753|\"Link,l=1\"), (dim=3|id=897|\"S=1,Site,n=1\"))\n",
       "[2] ((dim=9|id=361|\"Link,l=2\"), (dim=3|id=982|\"S=1,Site,n=2\"), (dim=3|id=753|\"Link,l=1\"))\n",
       "[3] ((dim=3|id=806|\"S=1,Site,n=3\"), (dim=27|id=343|\"Link,l=3\"), (dim=9|id=361|\"Link,l=2\"))\n",
       "[4] ((dim=3|id=288|\"S=1,Site,n=4\"), (dim=61|id=789|\"Link,l=4\"), (dim=27|id=343|\"Link,l=3\"))\n",
       "[5] ((dim=3|id=117|\"S=1,Site,n=5\"), (dim=74|id=754|\"Link,l=5\"), (dim=61|id=789|\"Link,l=4\"))\n",
       "[6] ((dim=3|id=974|\"S=1,Site,n=6\"), (dim=81|id=484|\"Link,l=6\"), (dim=74|id=754|\"Link,l=5\"))\n",
       "[7] ((dim=3|id=411|\"S=1,Site,n=7\"), (dim=76|id=361|\"Link,l=7\"), (dim=81|id=484|\"Link,l=6\"))\n",
       "[8] ((dim=3|id=819|\"S=1,Site,n=8\"), (dim=62|id=563|\"Link,l=8\"), (dim=76|id=361|\"Link,l=7\"))\n",
       "[9] ((dim=3|id=185|\"S=1,Site,n=9\"), (dim=27|id=853|\"Link,l=9\"), (dim=62|id=563|\"Link,l=8\"))\n",
       "[10] ((dim=3|id=101|\"S=1,Site,n=10\"), (dim=9|id=434|\"Link,l=10\"), (dim=27|id=853|\"Link,l=9\"))\n",
       "[11] ((dim=3|id=704|\"S=1,Site,n=11\"), (dim=3|id=68|\"Link,l=11\"), (dim=9|id=434|\"Link,l=10\"))\n",
       "[12] ((dim=3|id=189|\"S=1,Site,n=12\"), (dim=3|id=68|\"Link,l=11\"))\n",
       ")"
      ]
     },
     "metadata": {},
     "output_type": "display_data"
    }
   ],
   "source": [
    "energy, psi = heisenberg_1d(12, \"1\", 5, [10,20,100,100,200], 1E-10)"
   ]
  },
  {
   "cell_type": "code",
   "execution_count": 263,
   "metadata": {},
   "outputs": [
    {
     "data": {
      "text/plain": [
       "25×25 Matrix{Float64}:\n",
       "  1.0       -0.853308   0.617832  …   0.42981   -0.271353   0.353383\n",
       " -0.853308   1.0       -0.764524     -0.347341   0.219287  -0.285578\n",
       "  0.617832  -0.764524   1.0           0.479724  -0.302865   0.394421\n",
       " -0.764524   0.617832  -0.853308     -0.562194   0.35493   -0.462226\n",
       "  0.764524  -0.617832   0.853308      0.562194  -0.35493    0.462226\n",
       " -0.4331     0.35      -0.483396  …  -0.318482   0.201067  -0.261851\n",
       "  0.412037  -0.332978   0.459887      0.30299   -0.191288   0.249114\n",
       " -0.692249   0.559425  -0.77264      -0.509051   0.321377  -0.418534\n",
       "  0.610006  -0.492962   0.680846      0.448458  -0.283221   0.368689\n",
       " -0.738961   0.597173  -0.824776     -0.543398   0.343062  -0.446773\n",
       "  ⋮                               ⋱                        \n",
       "  0.470846  -0.380503   0.525525      0.365045  -0.231278   0.290436\n",
       " -0.665972   0.53819   -0.743312     -0.513752   0.31943   -0.419627\n",
       "  0.427643  -0.34559    0.477305      0.324796  -0.252024   0.31248\n",
       " -0.442811   0.357847  -0.494235     -0.358632   0.264015  -0.401633\n",
       "  0.463611  -0.374657   0.517451  …   0.370325  -0.260613   0.265807\n",
       " -0.315307   0.254808  -0.351924     -0.640206   0.23679   -0.259647\n",
       "  0.42981   -0.347341   0.479724      1.0       -0.488817   0.314907\n",
       " -0.271353   0.219287  -0.302865     -0.488817   1.0       -0.812348\n",
       "  0.353383  -0.285578   0.394421      0.314907  -0.812348   1.0"
      ]
     },
     "metadata": {},
     "output_type": "display_data"
    }
   ],
   "source": [
    "compute_correlation_pauliz(psi)"
   ]
  },
  {
   "cell_type": "code",
   "execution_count": 266,
   "metadata": {},
   "outputs": [
    {
     "data": {
      "text/plain": [
       "25-element Vector{Tuple{Int64, Float64}}:\n",
       " (1, 0.23288043602723432)\n",
       " (2, 0.14610476965048264)\n",
       " (3, -0.0)\n",
       " (4, -0.0)\n",
       " (5, -0.0)\n",
       " (6, 0.41481953713339476)\n",
       " (7, 0.028302369728264807)\n",
       " (8, 0.07176403133444796)\n",
       " (9, 0.13468286974488564)\n",
       " (10, 0.10150579502962617)\n",
       " ⋮\n",
       " (17, 0.19681027329646508)\n",
       " (18, 0.17684523636247154)\n",
       " (19, 0.442338421344833)\n",
       " (20, 0.16355474020402883)\n",
       " (21, 0.3832500278778335)\n",
       " (22, 0.3498126293465143)\n",
       " (23, 0.21994848684181517)\n",
       " (24, 0.49951215521276676)\n",
       " (25, -2.664535259100372e-15)"
      ]
     },
     "metadata": {},
     "output_type": "display_data"
    }
   ],
   "source": [
    "[compute_renyi_entropy_1d(psi, b) for b in 1:25]"
   ]
  }
 ],
 "metadata": {
  "kernelspec": {
   "display_name": "Julia 1.11.1",
   "language": "julia",
   "name": "julia-1.11"
  },
  "language_info": {
   "file_extension": ".jl",
   "mimetype": "application/julia",
   "name": "julia",
   "version": "1.11.1"
  }
 },
 "nbformat": 4,
 "nbformat_minor": 2
}
